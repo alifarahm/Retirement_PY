{
 "cells": [
  {
   "cell_type": "code",
   "execution_count": 97,
   "metadata": {
    "collapsed": true
   },
   "outputs": [],
   "source": [
    "class Person(object):\n",
    "    def __init__(self,Age,FinancialInfo,RetirementPlan):\n",
    "        self.Age = Age\n",
    "        self.FinancialInfo = FinancialInfo\n",
    "        self.RetirementPlan=RetirementPlan"
   ]
  },
  {
   "cell_type": "code",
   "execution_count": 98,
   "metadata": {
    "collapsed": true
   },
   "outputs": [],
   "source": [
    "class PersonFinancialInfo(object):\n",
    "    def __init__(self,ThisYearSalarySaving,AccumulatedSavingUpToThisYear,AnnualSavingRaise):\n",
    "        self.ThisYearSalarySaving = ThisYearSalarySaving\n",
    "        self.AccumulatedSavingUpToThisYear = AccumulatedSavingUpToThisYear\n",
    "        self.AnnualSavingRaise=AnnualSavingRaise"
   ]
  },
  {
   "cell_type": "code",
   "execution_count": 99,
   "metadata": {
    "collapsed": true
   },
   "outputs": [],
   "source": [
    "class EconomicCondition(object):\n",
    "    def __init__(self,InflationDist,InterestDist,GdpGrowthDist):\n",
    "        self.InflationDist=InflationDist\n",
    "        self.InterestDist=InterestDist\n",
    "        self.GdpGrowthDist=GdpGrowthDist"
   ]
  },
  {
   "cell_type": "code",
   "execution_count": 100,
   "metadata": {
    "collapsed": true
   },
   "outputs": [],
   "source": [
    "class RetirementPlan(object):\n",
    "    def __init__(self,retirementAge,retirementYears,annualRetirementSalary):\n",
    "        self.retirementAge = retirementAge\n",
    "        self.retirementYears = retirementYears\n",
    "        self.annualRetirementSalary=annualRetirementSalary"
   ]
  },
  {
   "cell_type": "code",
   "execution_count": 131,
   "metadata": {
    "collapsed": true
   },
   "outputs": [],
   "source": [
    "class Retirement(object):\n",
    "    \n",
    "    def __init__(self,EconomicCondition,Person):\n",
    "        self.EconomicCondition=EconomicCondition\n",
    "        self.Person=Person    \n",
    "    \n",
    "    def savingsAtRetirement(self):\n",
    "        PersonFinancialInfo =self.Person.FinancialInfo\n",
    "        accumulatedSavingUpToThisYear=\\\n",
    "        PersonFinancialInfo.AccumulatedSavingUpToThisYear\n",
    "        annualSaving=PersonFinancialInfo.ThisYearSalarySaving\n",
    "        retirementSavings=accumulatedSavingUpToThisYear + annualSaving\n",
    "        for i in range(1,self.Person.RetirementPlan.retirementAge-\\\n",
    "                       self.Person.Age+1):\n",
    "            annualRaiseRate=PersonFinancialInfo.AnnualSavingRaise.ppf(np.random.uniform(0,1))\n",
    "            appliedRate=1+annualRaiseRate+ self.EconomicCondition.InterestDist.ppf(np.random.uniform(0,1))\n",
    "            annualSaving=appliedRate*annualSaving\n",
    "            retirementSavings+=annualSaving+\\\n",
    "            (retirementSavings*self.EconomicCondition.InterestDist.ppf(np.random.uniform(0,1)))/100\n",
    "        return retirementSavings\n",
    "    \n",
    "    def remainingAtEndOfRetirement(self,savings):\n",
    "        retirementSavings=savings\n",
    "        for a in range(1,self.Person.RetirementPlan.retirementYears):\n",
    "            appliedRate=1+self.EconomicCondition.InterestDist.ppf(np.random.uniform(0,1))\n",
    "            retirementSavings= retirementSavings*appliedRate-\\\n",
    "            self.Person.RetirementPlan.annualRetirementSalary\n",
    "        return retirementSavings\n",
    "    \n",
    "    def achievementChance(self):\n",
    "        possibleCases=0\n",
    "        for a in range(1,100):\n",
    "            if self.remainingAtEndOfRetirement(self.savingsAtRetirement()) >0:\n",
    "                possibleCases+=1\n",
    "                \n",
    "        return possibleCases/100.0   "
   ]
  },
  {
   "cell_type": "code",
   "execution_count": 132,
   "metadata": {
    "collapsed": false
   },
   "outputs": [
    {
     "data": {
      "text/plain": [
       "0.43415340980356371"
      ]
     },
     "execution_count": 132,
     "metadata": {},
     "output_type": "execute_result"
    }
   ],
   "source": [
    "import numpy as np\n",
    "import scipy.stats\n",
    "x=scipy.stats.norm(0.08, 0.2)\n",
    "y=x.ppf(np.random.uniform(0,1))\n",
    "y"
   ]
  },
  {
   "cell_type": "code",
   "execution_count": 133,
   "metadata": {
    "collapsed": false
   },
   "outputs": [],
   "source": [
    "financialInfo=PersonFinancialInfo(10000, 140000, scipy.stats.norm(0.08, 0.2))"
   ]
  },
  {
   "cell_type": "code",
   "execution_count": 134,
   "metadata": {
    "collapsed": false
   },
   "outputs": [],
   "source": [
    "plan=RetirementPlan(65,20,100000)"
   ]
  },
  {
   "cell_type": "code",
   "execution_count": 135,
   "metadata": {
    "collapsed": true
   },
   "outputs": [],
   "source": [
    "person=Person(36, financialInfo, plan)"
   ]
  },
  {
   "cell_type": "code",
   "execution_count": 136,
   "metadata": {
    "collapsed": false
   },
   "outputs": [],
   "source": [
    "economicCondition=EconomicCondition(scipy.stats.norm(0.08, 0.2),\n",
    "                                    scipy.stats.norm(0.015, 0.02),scipy.stats.norm(0.0025, 0.05))"
   ]
  },
  {
   "cell_type": "code",
   "execution_count": 137,
   "metadata": {
    "collapsed": false
   },
   "outputs": [],
   "source": [
    "retirement=Retirement(economicCondition, person)"
   ]
  },
  {
   "cell_type": "code",
   "execution_count": 138,
   "metadata": {
    "collapsed": false
   },
   "outputs": [
    {
     "data": {
      "text/plain": [
       "0.27"
      ]
     },
     "execution_count": 138,
     "metadata": {},
     "output_type": "execute_result"
    }
   ],
   "source": [
    "retirement.achievementChance()"
   ]
  },
  {
   "cell_type": "code",
   "execution_count": null,
   "metadata": {
    "collapsed": true
   },
   "outputs": [],
   "source": []
  }
 ],
 "metadata": {
  "kernelspec": {
   "display_name": "Python 2",
   "language": "python",
   "name": "python2"
  },
  "language_info": {
   "codemirror_mode": {
    "name": "ipython",
    "version": 2
   },
   "file_extension": ".py",
   "mimetype": "text/x-python",
   "name": "python",
   "nbconvert_exporter": "python",
   "pygments_lexer": "ipython2",
   "version": "2.7.13"
  }
 },
 "nbformat": 4,
 "nbformat_minor": 0
}
