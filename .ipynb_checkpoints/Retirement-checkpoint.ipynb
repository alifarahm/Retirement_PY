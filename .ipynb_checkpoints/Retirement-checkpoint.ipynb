{
 "cells": [
  {
   "cell_type": "code",
   "execution_count": 9,
   "metadata": {
    "collapsed": true
   },
   "outputs": [],
   "source": [
    "class Person(object):\n",
    "    def __init__(self, age, financialInfo, retirementPlan):\n",
    "        self.age = age\n",
    "        self.financialInfo = financialInfo\n",
    "        self.retirementPlan = retirementPlan"
   ]
  },
  {
   "cell_type": "code",
   "execution_count": 10,
   "metadata": {
    "collapsed": true
   },
   "outputs": [],
   "source": [
    "class PersonFinancialInfo(object):\n",
    "    def __init__(self, thisYearSalarySaving, accumulatedSavingUpToThisYear, annualSavingRaise):\n",
    "        self.thisYearSalarySaving = thisYearSalarySaving\n",
    "        self.accumulatedSavingUpToThisYear = accumulatedSavingUpToThisYear\n",
    "        self.annualSavingRaise = annualSavingRaise"
   ]
  },
  {
   "cell_type": "code",
   "execution_count": 11,
   "metadata": {
    "collapsed": true
   },
   "outputs": [],
   "source": [
    "class EconomicCondition(object):\n",
    "    def __init__(self, inflationDist, interestDist, gdpGrowthDist):\n",
    "        self.inflationDist = inflationDist\n",
    "        self.interestDist = interestDist\n",
    "        self.gdpGrowthDist = gdpGrowthDist"
   ]
  },
  {
   "cell_type": "code",
   "execution_count": 12,
   "metadata": {
    "collapsed": true
   },
   "outputs": [],
   "source": [
    "class RetirementPlan(object):\n",
    "    def __init__(self,retirementAge, retirementYears, annualRetirementSalary):\n",
    "        self.retirementAge = retirementAge\n",
    "        self.retirementYears = retirementYears\n",
    "        self.annualRetirementSalary = annualRetirementSalary"
   ]
  },
  {
   "cell_type": "code",
   "execution_count": 13,
   "metadata": {
    "collapsed": false
   },
   "outputs": [],
   "source": [
    "class Retirement(object):\n",
    "    \n",
    "    def __init__(self, economicCondition, person):\n",
    "        self.economicCondition = economicCondition\n",
    "        self.person = person    \n",
    "    \n",
    "    def savingsAtRetirement(self):\n",
    "        personFinancialInfo = self.person.financialInfo\n",
    "        accumulatedSavingUpToThisYear = \\\n",
    "        personFinancialInfo.accumulatedSavingUpToThisYear\n",
    "        annualSaving = personFinancialInfo.thisYearSalarySaving\n",
    "        retirementSavings = accumulatedSavingUpToThisYear + annualSaving\n",
    "        for i in range(1,self.person.retirementPlan.retirementAge-\\\n",
    "                       self.person.age + 1):\n",
    "            annualRaiseRate = personFinancialInfo.annualSavingRaise.ppf(np.random.uniform(0,1))\n",
    "            appliedRate = 1 + annualRaiseRate + self.economicCondition.interestDist.ppf(np.random.uniform(0,1))\n",
    "            annualSaving = appliedRate*annualSaving\n",
    "            retirementSavings += annualSaving+\\\n",
    "            (retirementSavings * self.economicCondition.interestDist.ppf(np.random.uniform(0,1)))/100\n",
    "        return retirementSavings\n",
    "    \n",
    "    def remainingAtEndOfRetirement(self,savings):\n",
    "        retirementSavings = savings\n",
    "        for a in range(1,self.person.retirementPlan.retirementYears):\n",
    "            appliedRate = 1 + self.economicCondition.interestDist.ppf(np.random.uniform(0,1))\n",
    "            retirementSavings = retirementSavings * appliedRate -\\\n",
    "            self.person.retirementPlan.annualRetirementSalary\n",
    "        return retirementSavings\n",
    "    \n",
    "    def achievementChance(self):\n",
    "        possibleCases = 0\n",
    "        for a in range(1,10000):\n",
    "            if self.remainingAtEndOfRetirement(self.savingsAtRetirement()) >0:\n",
    "                possibleCases += 1\n",
    "                \n",
    "        return possibleCases/100.0   "
   ]
  },
  {
   "cell_type": "markdown",
   "metadata": {},
   "source": [
    "### Example"
   ]
  },
  {
   "cell_type": "code",
   "execution_count": 15,
   "metadata": {
    "collapsed": false
   },
   "outputs": [
    {
     "data": {
      "text/plain": [
       "34.2"
      ]
     },
     "execution_count": 15,
     "metadata": {},
     "output_type": "execute_result"
    }
   ],
   "source": [
    "financialInfo = PersonFinancialInfo(10000, 140000, scipy.stats.norm(0.08, 0.2))\n",
    "plan = RetirementPlan(65,20,100000)\n",
    "person = Person(36, financialInfo, plan)\n",
    "economicCondition = EconomicCondition(scipy.stats.norm(0.08, 0.2),\n",
    "                                    scipy.stats.norm(0.015, 0.02),scipy.stats.norm(0.0025, 0.05))\n",
    "retirement = Retirement(economicCondition, person)\n",
    "retirement.achievementChance()"
   ]
  },
  {
   "cell_type": "code",
   "execution_count": null,
   "metadata": {
    "collapsed": true
   },
   "outputs": [],
   "source": []
  }
 ],
 "metadata": {
  "kernelspec": {
   "display_name": "Python 2",
   "language": "python",
   "name": "python2"
  },
  "language_info": {
   "codemirror_mode": {
    "name": "ipython",
    "version": 2
   },
   "file_extension": ".py",
   "mimetype": "text/x-python",
   "name": "python",
   "nbconvert_exporter": "python",
   "pygments_lexer": "ipython2",
   "version": "2.7.13"
  }
 },
 "nbformat": 4,
 "nbformat_minor": 0
}
